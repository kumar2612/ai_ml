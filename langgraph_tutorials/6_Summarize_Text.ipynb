{
  "nbformat": 4,
  "nbformat_minor": 0,
  "metadata": {
    "colab": {
      "provenance": [],
      "authorship_tag": "ABX9TyNzi1pxDIwa/c1zCbs2UVhC",
      "include_colab_link": true
    },
    "kernelspec": {
      "name": "python3",
      "display_name": "Python 3"
    },
    "language_info": {
      "name": "python"
    }
  },
  "cells": [
    {
      "cell_type": "markdown",
      "metadata": {
        "id": "view-in-github",
        "colab_type": "text"
      },
      "source": [
        "<a href=\"https://colab.research.google.com/github/kumar2612/ai_ml/blob/ai_ml_basics_nov2024/langgraph_tutorials/6_Summarize_Text.ipynb\" target=\"_parent\"><img src=\"https://colab.research.google.com/assets/colab-badge.svg\" alt=\"Open In Colab\"/></a>"
      ]
    },
    {
      "cell_type": "code",
      "source": [
        "!pip install --upgrade --quiet tiktoken langchain langgraph beautifulsoup4 langchain-community"
      ],
      "metadata": {
        "id": "qv5pEYw5zzLS",
        "colab": {
          "base_uri": "https://localhost:8080/"
        },
        "outputId": "5b67c3e7-7063-405b-d4f4-8c25ee8e424c"
      },
      "execution_count": 1,
      "outputs": [
        {
          "output_type": "stream",
          "name": "stdout",
          "text": [
            "\u001b[?25l   \u001b[90m━━━━━━━━━━━━━━━━━━━━━━━━━━━━━━━━━━━━━━━━\u001b[0m \u001b[32m0.0/1.2 MB\u001b[0m \u001b[31m?\u001b[0m eta \u001b[36m-:--:--\u001b[0m\r\u001b[2K   \u001b[91m━━━━━━━━━━━━━━━━━━━━━━━━━━━━━━━━━━━━━━━\u001b[0m\u001b[91m╸\u001b[0m \u001b[32m1.2/1.2 MB\u001b[0m \u001b[31m34.9 MB/s\u001b[0m eta \u001b[36m0:00:01\u001b[0m\r\u001b[2K   \u001b[90m━━━━━━━━━━━━━━━━━━━━━━━━━━━━━━━━━━━━━━━━\u001b[0m \u001b[32m1.2/1.2 MB\u001b[0m \u001b[31m19.5 MB/s\u001b[0m eta \u001b[36m0:00:00\u001b[0m\n",
            "\u001b[2K   \u001b[90m━━━━━━━━━━━━━━━━━━━━━━━━━━━━━━━━━━━━━━━━\u001b[0m \u001b[32m1.0/1.0 MB\u001b[0m \u001b[31m17.2 MB/s\u001b[0m eta \u001b[36m0:00:00\u001b[0m\n",
            "\u001b[2K   \u001b[90m━━━━━━━━━━━━━━━━━━━━━━━━━━━━━━━━━━━━━━━━\u001b[0m \u001b[32m135.8/135.8 kB\u001b[0m \u001b[31m5.1 MB/s\u001b[0m eta \u001b[36m0:00:00\u001b[0m\n",
            "\u001b[2K   \u001b[90m━━━━━━━━━━━━━━━━━━━━━━━━━━━━━━━━━━━━━━━━\u001b[0m \u001b[32m2.5/2.5 MB\u001b[0m \u001b[31m21.1 MB/s\u001b[0m eta \u001b[36m0:00:00\u001b[0m\n",
            "\u001b[2K   \u001b[90m━━━━━━━━━━━━━━━━━━━━━━━━━━━━━━━━━━━━━━━━\u001b[0m \u001b[32m411.2/411.2 kB\u001b[0m \u001b[31m6.9 MB/s\u001b[0m eta \u001b[36m0:00:00\u001b[0m\n",
            "\u001b[2K   \u001b[90m━━━━━━━━━━━━━━━━━━━━━━━━━━━━━━━━━━━━━━━━\u001b[0m \u001b[32m43.3/43.3 kB\u001b[0m \u001b[31m1.7 MB/s\u001b[0m eta \u001b[36m0:00:00\u001b[0m\n",
            "\u001b[2K   \u001b[90m━━━━━━━━━━━━━━━━━━━━━━━━━━━━━━━━━━━━━━━━\u001b[0m \u001b[32m49.5/49.5 kB\u001b[0m \u001b[31m2.4 MB/s\u001b[0m eta \u001b[36m0:00:00\u001b[0m\n",
            "\u001b[?25h"
          ]
        }
      ]
    },
    {
      "cell_type": "code",
      "source": [
        "from google.colab import userdata\n",
        "import os\n",
        "\n",
        "os.environ[\"LANGCHAIN_TRACING_V2\"]=\"true\"\n",
        "os.environ[\"LANGCHAIN_ENDPOINT\"]=\"https://api.smith.langchain.com\"\n",
        "os.environ[\"LANGCHAIN_API_KEY\"]=userdata.get('LANGCHAIN_API_KEY')\n",
        "os.environ[\"LANGCHAIN_PROJECT\"]=\"langchain_tutorials\""
      ],
      "metadata": {
        "id": "EYOIibuMxGFk"
      },
      "execution_count": 2,
      "outputs": []
    },
    {
      "cell_type": "code",
      "source": [
        "from langchain_community.document_loaders import WebBaseLoader\n",
        "\n",
        "loader = WebBaseLoader(\"https://lilianweng.github.io/posts/2023-06-23-agent/\")\n",
        "docs = loader.load()"
      ],
      "metadata": {
        "id": "cRFj8Dqxz6Sg"
      },
      "execution_count": 13,
      "outputs": []
    },
    {
      "cell_type": "code",
      "source": [
        "!pip install -qU langchain-groq"
      ],
      "metadata": {
        "colab": {
          "base_uri": "https://localhost:8080/"
        },
        "id": "t53y7Xwb0bLJ",
        "outputId": "47f26e28-5d8b-4fa7-a569-5d3ecf134999"
      },
      "execution_count": 4,
      "outputs": [
        {
          "output_type": "stream",
          "name": "stdout",
          "text": [
            "\u001b[?25l   \u001b[90m━━━━━━━━━━━━━━━━━━━━━━━━━━━━━━━━━━━━━━━━\u001b[0m \u001b[32m0.0/109.1 kB\u001b[0m \u001b[31m?\u001b[0m eta \u001b[36m-:--:--\u001b[0m\r\u001b[2K   \u001b[90m━━━━━━━━━━━━━━━━━━━━━━━━━━━━━━━━━━━━━━━━\u001b[0m \u001b[32m109.1/109.1 kB\u001b[0m \u001b[31m4.3 MB/s\u001b[0m eta \u001b[36m0:00:00\u001b[0m\n",
            "\u001b[?25h"
          ]
        }
      ]
    },
    {
      "cell_type": "code",
      "source": [
        "os.environ[\"GROQ_API_KEY\"] = userdata.get('GROQ_API_KEY')\n",
        "\n",
        "from langchain_groq import ChatGroq\n",
        "\n",
        "llm = ChatGroq(model=\"llama3-8b-8192\")"
      ],
      "metadata": {
        "id": "G4OLTNir0j5B"
      },
      "execution_count": 21,
      "outputs": []
    },
    {
      "cell_type": "code",
      "source": [
        "from langchain.chains.combine_documents import create_stuff_documents_chain\n",
        "from langchain.chains.llm import LLMChain\n",
        "from langchain_core.prompts import ChatPromptTemplate\n",
        "\n",
        "# Define prompt\n",
        "prompt = ChatPromptTemplate.from_messages(\n",
        "    [(\"system\", \"Write a concise summary of the following using bullet points:\\\\n\\\\n{context}\")]\n",
        ")\n",
        "\n",
        "# Instantiate chain\n",
        "chain = create_stuff_documents_chain(llm, prompt)\n",
        "docs[0].page_content = docs[0].page_content[:5000]\n",
        "#docs\n",
        "# Invoke chain\n",
        "result = chain.invoke({\"context\": docs})\n",
        "print(result)"
      ],
      "metadata": {
        "colab": {
          "base_uri": "https://localhost:8080/"
        },
        "id": "nF_ax-Py030y",
        "outputId": "f6ebb072-f0e4-4c71-aba8-a1380e148818"
      },
      "execution_count": 6,
      "outputs": [
        {
          "output_type": "stream",
          "name": "stdout",
          "text": [
            "Here is a concise summary of LLM Powered Autonomous Agents using bullet points:\n",
            "\n",
            "**Overview of LLM-Powered Autonomous Agents:**\n",
            "* LLM (Large Language Model) serves as the core controller of the agent system\n",
            "* Complemented by key components: Planning, Memory, and Tool Use\n",
            "\n",
            "**Component One: Planning**\n",
            "* Task decomposition: breaking down large tasks into smaller subgoals\n",
            "* Self-reflection: allowing the agent to learn from mistakes and refine past actions\n",
            "* Techniques: Chain of Thought (CoT), Tree of Thoughts, LLM+P (using an external classical planner)\n",
            "\n",
            "**Component Two: Memory**\n",
            "* Short-term memory: utilizing in-context learning (Prompt Engineering)\n",
            "* Long-term memory: retaining and recalling information over extended periods using external vector stores and fast retrieval\n",
            "\n",
            "**Component Three: Tool Use**\n",
            "* Learning to call external APIs for extra information\n",
            "* Accessing current information, code execution, and proprietary information sources\n",
            "\n",
            "**Key Concepts and Techniques:**\n",
            "* Chain of Thought (CoT): decomposing tasks into smaller steps\n",
            "* Tree of Thoughts: exploring multiple reasoning possibilities at each step\n",
            "* ReAct: integrating reasoning and acting within LLM\n",
            "* LLM+P: using an external classical planner for long-horizon planning\n"
          ]
        }
      ]
    },
    {
      "cell_type": "code",
      "source": [
        "for token in chain.stream({\"context\": docs}):\n",
        "    print(token, end=\"|\")"
      ],
      "metadata": {
        "id": "rWGrPlWv2_f4",
        "outputId": "51a997dd-d2dc-4048-ed95-82c20332961d",
        "colab": {
          "base_uri": "https://localhost:8080/"
        }
      },
      "execution_count": 7,
      "outputs": [
        {
          "output_type": "stream",
          "name": "stdout",
          "text": [
            "|Here| is| a| concise| summary| of| the| article| using| bullet| points|:\n",
            "\n",
            "|**|LL|M| Powered| Autonomous| Agents| Overview|**\n",
            "|*| A| L|LM|-powered| autonomous| agent| system| uses| a| large| language| model| (|LL|M|)| as| its| core| controller|,| complement|ed| by| key| components|:| planning|,| memory|,| and| tool| use|.\n",
            "|*| The| potential| of| L|LM| extends| beyond| generating| text| to| being| a| powerful| general| problem| solver|.\n",
            "\n",
            "|**|Component| One|:| Planning|**\n",
            "|*| Task| decomposition|:| breaking| down| large| tasks| into| smaller|,| manageable| sub|goals|.\n",
            "|*| Techniques| for| task| decomposition|:| Chain| of| Thought| (|Co|T|),| Tree| of| Thoughts|,| and| L|LM|+|P|.\n",
            "|*| Self|-ref|lection|:| allowing| the| agent| to| refine| past| action| decisions| and| correct| previous| mistakes|.\n",
            "\n",
            "|**|Component| Two|:| Memory|**\n",
            "|*| Short|-term| memory|:| utilizing| in|-context| learning| to| learn| from| the| current| input|.\n",
            "|*| Long|-term| memory|:| retaining| and| recalling| information| over| extended| periods| using| an| external| vector| store| and| fast| retrieval|.\n",
            "\n",
            "|**|Component| Three|:| Tool| Use|**\n",
            "|*| Learning| to| call| external| APIs| for| extra| information|,| such| as| current| information|,| code| execution| capability|,| and| access| to| proprietary| information| sources|.\n",
            "\n",
            "|**|Ch|allenges| and| Future| Directions|**\n",
            "|*| Integr|ating| reasoning| and| acting| within| L|LM|,| such| as| Re|Act|,| which| extends| the| action| space| to| include| task|-specific| discrete| actions| and| language| space|.\n",
            "|*| Over|coming| the| limitations| of| L|LM|,| such| as| its| ability| to| handle| complex| tasks| and| learn| from| mistakes|.||"
          ]
        }
      ]
    },
    {
      "cell_type": "code",
      "source": [
        "from langchain_core.prompts import ChatPromptTemplate\n",
        "\n",
        "map_prompt = ChatPromptTemplate.from_messages(\n",
        "    [(\"system\", \"Write a concise summary of the following:\\\\n\\\\n{context}\")]\n",
        ")"
      ],
      "metadata": {
        "id": "Nzr83ugF2QIa"
      },
      "execution_count": 8,
      "outputs": []
    },
    {
      "cell_type": "code",
      "source": [
        "map_prompt.invoke({\"context\":\"this is a text document\"})"
      ],
      "metadata": {
        "colab": {
          "base_uri": "https://localhost:8080/"
        },
        "id": "E5KLtenJ301n",
        "outputId": "f47f4c83-a578-4f00-da22-7aaf6a509313"
      },
      "execution_count": 9,
      "outputs": [
        {
          "output_type": "execute_result",
          "data": {
            "text/plain": [
              "ChatPromptValue(messages=[SystemMessage(content='Write a concise summary of the following:\\\\n\\\\nthis is a text document', additional_kwargs={}, response_metadata={})])"
            ]
          },
          "metadata": {},
          "execution_count": 9
        }
      ]
    },
    {
      "cell_type": "code",
      "source": [
        "from langchain import hub\n",
        "\n",
        "map_prompt = hub.pull(\"rlm/map-prompt\")"
      ],
      "metadata": {
        "id": "4Dvuhj603_h4"
      },
      "execution_count": 10,
      "outputs": []
    },
    {
      "cell_type": "code",
      "source": [
        "# Also available via the hub: `hub.pull(\"rlm/reduce-prompt\")`\n",
        "reduce_template = \"\"\"\n",
        "The following is a set of summaries:\n",
        "{docs}\n",
        "Take these and distill it into a final, consolidated summary\n",
        "of the main themes.\n",
        "\"\"\"\n",
        "\n",
        "reduce_prompt = ChatPromptTemplate([(\"human\", reduce_template)])"
      ],
      "metadata": {
        "id": "aSgKKTCV4Oan"
      },
      "execution_count": 11,
      "outputs": []
    },
    {
      "cell_type": "code",
      "source": [
        "from langchain_text_splitters import CharacterTextSplitter\n",
        "\n",
        "text_splitter = CharacterTextSplitter.from_tiktoken_encoder(\n",
        "    chunk_size=1000, chunk_overlap=0\n",
        ")\n",
        "split_docs = text_splitter.split_documents(docs)\n",
        "print(f\"Generated {len(split_docs)} documents.\")"
      ],
      "metadata": {
        "colab": {
          "base_uri": "https://localhost:8080/"
        },
        "id": "1Hs9WQSM41z0",
        "outputId": "82e9a2fe-89fa-4d5b-94f2-89ecfe774b20"
      },
      "execution_count": 14,
      "outputs": [
        {
          "output_type": "stream",
          "name": "stderr",
          "text": [
            "WARNING:langchain_text_splitters.base:Created a chunk of size 1003, which is longer than the specified 1000\n"
          ]
        },
        {
          "output_type": "stream",
          "name": "stdout",
          "text": [
            "Generated 14 documents.\n"
          ]
        }
      ]
    },
    {
      "cell_type": "code",
      "source": [
        "import operator\n",
        "from typing import Annotated, List, Literal, TypedDict\n",
        "\n",
        "from langchain.chains.combine_documents.reduce import (\n",
        "    acollapse_docs,\n",
        "    split_list_of_docs,\n",
        ")\n",
        "from langchain_core.documents import Document\n",
        "from langgraph.constants import Send\n",
        "from langgraph.graph import END, START, StateGraph\n",
        "\n",
        "token_max = 1000\n",
        "\n",
        "\n",
        "def length_function(documents: List[Document]) -> int:\n",
        "    \"\"\"Get number of tokens for input contents.\"\"\"\n",
        "    return sum(llm.get_num_tokens(doc.page_content) for doc in documents)\n",
        "\n",
        "\n",
        "# This will be the overall state of the main graph.\n",
        "# It will contain the input document contents, corresponding\n",
        "# summaries, and a final summary.\n",
        "class OverallState(TypedDict):\n",
        "    # Notice here we use the operator.add\n",
        "    # This is because we want combine all the summaries we generate\n",
        "    # from individual nodes back into one list - this is essentially\n",
        "    # the \"reduce\" part\n",
        "    contents: List[str]\n",
        "    summaries: Annotated[list, operator.add]\n",
        "    collapsed_summaries: List[Document]\n",
        "    final_summary: str\n",
        "\n",
        "\n",
        "# This will be the state of the node that we will \"map\" all\n",
        "# documents to in order to generate summaries\n",
        "class SummaryState(TypedDict):\n",
        "    content: str\n",
        "\n",
        "\n",
        "# Here we generate a summary, given a document\n",
        "async def generate_summary(state: SummaryState):\n",
        "    prompt = map_prompt.invoke(state[\"content\"])\n",
        "    response = await llm.ainvoke(prompt)\n",
        "    return {\"summaries\": [response.content]}\n",
        "\n",
        "\n",
        "# Here we define the logic to map out over the documents\n",
        "# We will use this an edge in the graph\n",
        "def map_summaries(state: OverallState):\n",
        "    # We will return a list of `Send` objects\n",
        "    # Each `Send` object consists of the name of a node in the graph\n",
        "    # as well as the state to send to that node\n",
        "    return [\n",
        "        Send(\"generate_summary\", {\"content\": content}) for content in state[\"contents\"]\n",
        "    ]\n",
        "\n",
        "\n",
        "def collect_summaries(state: OverallState):\n",
        "    return {\n",
        "        \"collapsed_summaries\": [Document(summary) for summary in state[\"summaries\"]]\n",
        "    }\n",
        "\n",
        "\n",
        "async def _reduce(input: dict) -> str:\n",
        "    prompt = reduce_prompt.invoke(input)\n",
        "    response = await llm.ainvoke(prompt)\n",
        "    return response.content\n",
        "\n",
        "\n",
        "# Add node to collapse summaries\n",
        "async def collapse_summaries(state: OverallState):\n",
        "    doc_lists = split_list_of_docs(\n",
        "        state[\"collapsed_summaries\"], length_function, token_max\n",
        "    )\n",
        "    results = []\n",
        "    for doc_list in doc_lists:\n",
        "        results.append(await acollapse_docs(doc_list, _reduce))\n",
        "\n",
        "    return {\"collapsed_summaries\": results}\n",
        "\n",
        "\n",
        "# This represents a conditional edge in the graph that determines\n",
        "# if we should collapse the summaries or not\n",
        "def should_collapse(\n",
        "    state: OverallState,\n",
        ") -> Literal[\"collapse_summaries\", \"generate_final_summary\"]:\n",
        "    num_tokens = length_function(state[\"collapsed_summaries\"])\n",
        "    if num_tokens > token_max:\n",
        "        return \"collapse_summaries\"\n",
        "    else:\n",
        "        return \"generate_final_summary\"\n",
        "\n",
        "\n",
        "# Here we will generate the final summary\n",
        "async def generate_final_summary(state: OverallState):\n",
        "    response = await _reduce(state[\"collapsed_summaries\"])\n",
        "    return {\"final_summary\": response}\n",
        "\n",
        "\n",
        "# Construct the graph\n",
        "# Nodes:\n",
        "graph = StateGraph(OverallState)\n",
        "graph.add_node(\"generate_summary\", generate_summary)  # same as before\n",
        "graph.add_node(\"collect_summaries\", collect_summaries)\n",
        "graph.add_node(\"collapse_summaries\", collapse_summaries)\n",
        "graph.add_node(\"generate_final_summary\", generate_final_summary)\n",
        "\n",
        "# Edges:\n",
        "graph.add_conditional_edges(START, map_summaries, [\"generate_summary\"])\n",
        "graph.add_edge(\"generate_summary\", \"collect_summaries\")\n",
        "graph.add_conditional_edges(\"collect_summaries\", should_collapse)\n",
        "graph.add_conditional_edges(\"collapse_summaries\", should_collapse)\n",
        "graph.add_edge(\"generate_final_summary\", END)\n",
        "\n",
        "app = graph.compile()"
      ],
      "metadata": {
        "id": "svoBSy5X6wDq"
      },
      "execution_count": 15,
      "outputs": []
    },
    {
      "cell_type": "code",
      "source": [
        "from IPython.display import Image\n",
        "\n",
        "Image(app.get_graph().draw_mermaid_png())"
      ],
      "metadata": {
        "colab": {
          "base_uri": "https://localhost:8080/",
          "height": 548
        },
        "id": "9095g8WM6xzS",
        "outputId": "8b8c4af1-00ee-4c8f-cf97-08ed9183689d"
      },
      "execution_count": 16,
      "outputs": [
        {
          "output_type": "execute_result",
          "data": {
            "image/png": "[encoded data removed]",
            "text/plain": [
              "<IPython.core.display.Image object>"
            ]
          },
          "metadata": {},
          "execution_count": 16
        }
      ]
    },
    {
      "cell_type": "code",
      "source": [
        "async for step in app.astream(\n",
        "    {\"contents\": [doc.page_content for doc in split_docs]},\n",
        "    {\"recursion_limit\": 10},\n",
        "):\n",
        "    print(list(step.keys()))"
      ],
      "metadata": {
        "colab": {
          "base_uri": "https://localhost:8080/"
        },
        "id": "-2tAZyBe7B6Q",
        "outputId": "883fb76b-d6fa-42b9-b5a8-791cb5563183"
      },
      "execution_count": 22,
      "outputs": [
        {
          "output_type": "stream",
          "name": "stdout",
          "text": [
            "['generate_summary']\n",
            "['generate_summary']\n",
            "['generate_summary']\n",
            "['generate_summary']\n",
            "['generate_summary']\n",
            "['generate_summary']\n",
            "['generate_summary']\n",
            "['generate_summary']\n",
            "['generate_summary']\n",
            "['generate_summary']\n",
            "['generate_summary']\n",
            "['generate_summary']\n",
            "['generate_summary']\n",
            "['generate_summary']\n",
            "['collect_summaries']\n",
            "['collapse_summaries']\n",
            "['collapse_summaries']\n",
            "['generate_final_summary']\n"
          ]
        }
      ]
    },
    {
      "cell_type": "code",
      "source": [
        "print(step)"
      ],
      "metadata": {
        "colab": {
          "base_uri": "https://localhost:8080/"
        },
        "id": "_Hdropng7985",
        "outputId": "125d88f8-1272-46e3-ec93-f0fc5e54ecbf"
      },
      "execution_count": 23,
      "outputs": [
        {
          "output_type": "stream",
          "name": "stdout",
          "text": [
            "{'generate_final_summary': {'final_summary': 'Here is the consolidated summary of the main themes:\\n\\nAfter analyzing the summaries, the main themes that emerge are:\\n\\n1. **Autonomous Agents and Language Models**: The development and integration of autonomous agents powered by Large Language Models (LLMs) to solve complex problems, with a focus on planning, memory, and tool use.\\n2. **Task Decomposition and Planning**: Techniques for breaking down complex tasks into smaller, manageable steps, including Chain of Thought, Tree of Thoughts, and planning and reasoning strategies like LLM+P and ReAct.\\n3. **Self-Improvement and Reflection**: The importance of self-reflection in autonomous agents, allowing them to improve iteratively by refining past action decisions and correcting previous mistakes, discussed in the context of ReAct and Reflexion frameworks.\\n4. **Learning and Memory**: The concept of memory, including its types (sensory, short-term, and long-term), and its role in learning and cognition, with a focus on the intersection of human memory, AI/ML, and data storage and retrieval.\\n5. **Scalability and Efficiency**: The development of scalable and efficient algorithms and data structures for nearest neighbors search, computer vision, and machine learning, with a focus on innovative techniques and applications.\\n6. **Reinforcement Learning and Contextualization**: The application of reinforcement learning to complex tasks, including the importance of contextualization and the role of context windows.\\n7. **Automation and Delegation**: The system is designed to automate tasks and delegate them to intelligent agents, suggesting a high level of autonomy and capability.\\n8. **Software Architecture and Design**: The design and implementation of software architectures, including code organization, testing, and verification.\\n9. **Self-Improvement and Adaptation**: The system is designed to constantly evaluate and improve its own performance, which is a key theme in artificial intelligence and machine learning.\\n10. **Steerability and Control**: The concept of steerability and control in large language models (LLMs), including the use of prompts, feedback, and other techniques to influence their behavior.\\n\\nThese themes suggest a comprehensive framework for developing autonomous agents that can perform complex tasks in various domains, including medicine, artificial intelligence, and autonomous systems. The integration of language models, planning, self-reflection, and learning and memory components are key to achieving this goal.'}}\n"
          ]
        }
      ]
    }
  ]
}