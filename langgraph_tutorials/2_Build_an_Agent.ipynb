{
  "nbformat": 4,
  "nbformat_minor": 0,
  "metadata": {
    "colab": {
      "provenance": [],
      "authorship_tag": "ABX9TyOD5S0z4VEtAS+c0VAY54fM",
      "include_colab_link": true
    },
    "kernelspec": {
      "name": "python3",
      "display_name": "Python 3"
    },
    "language_info": {
      "name": "python"
    }
  },
  "cells": [
    {
      "cell_type": "markdown",
      "metadata": {
        "id": "view-in-github",
        "colab_type": "text"
      },
      "source": [
        "<a href=\"https://colab.research.google.com/github/kumar2612/ai_ml/blob/ai_ml_basics_nov2024/langgraph_tutorials/2_Build_an_Agent.ipynb\" target=\"_parent\"><img src=\"https://colab.research.google.com/assets/colab-badge.svg\" alt=\"Open In Colab\"/></a>"
      ]
    },
    {
      "cell_type": "code",
      "execution_count": 4,
      "metadata": {
        "colab": {
          "base_uri": "https://localhost:8080/"
        },
        "id": "9O26lZRpwXWz",
        "outputId": "0ec2632f-287c-4133-9397-252e072b04dc"
      },
      "outputs": [
        {
          "output_type": "stream",
          "name": "stdout",
          "text": [
            "Collecting langchain-community\n",
            "  Downloading langchain_community-0.3.11-py3-none-any.whl.metadata (2.9 kB)\n",
            "Collecting langgraph\n",
            "  Downloading langgraph-0.2.59-py3-none-any.whl.metadata (15 kB)\n",
            "Collecting langchain-groq\n",
            "  Downloading langchain_groq-0.2.1-py3-none-any.whl.metadata (2.9 kB)\n",
            "Collecting tavily-python\n",
            "  Downloading tavily_python-0.5.0-py3-none-any.whl.metadata (11 kB)\n",
            "Collecting langgraph-checkpoint-sqlite\n",
            "  Downloading langgraph_checkpoint_sqlite-2.0.1-py3-none-any.whl.metadata (3.0 kB)\n",
            "Requirement already satisfied: PyYAML>=5.3 in /usr/local/lib/python3.10/dist-packages (from langchain-community) (6.0.2)\n",
            "Requirement already satisfied: SQLAlchemy<3,>=1.4 in /usr/local/lib/python3.10/dist-packages (from langchain-community) (2.0.36)\n",
            "Requirement already satisfied: aiohttp<4.0.0,>=3.8.3 in /usr/local/lib/python3.10/dist-packages (from langchain-community) (3.11.9)\n",
            "Collecting dataclasses-json<0.7,>=0.5.7 (from langchain-community)\n",
            "  Downloading dataclasses_json-0.6.7-py3-none-any.whl.metadata (25 kB)\n",
            "Collecting httpx-sse<0.5.0,>=0.4.0 (from langchain-community)\n",
            "  Downloading httpx_sse-0.4.0-py3-none-any.whl.metadata (9.0 kB)\n",
            "Collecting langchain<0.4.0,>=0.3.11 (from langchain-community)\n",
            "  Downloading langchain-0.3.11-py3-none-any.whl.metadata (7.1 kB)\n",
            "Collecting langchain-core<0.4.0,>=0.3.24 (from langchain-community)\n",
            "  Downloading langchain_core-0.3.24-py3-none-any.whl.metadata (6.3 kB)\n",
            "Requirement already satisfied: langsmith<0.3,>=0.1.125 in /usr/local/lib/python3.10/dist-packages (from langchain-community) (0.1.147)\n",
            "Requirement already satisfied: numpy<2,>=1.22.4 in /usr/local/lib/python3.10/dist-packages (from langchain-community) (1.26.4)\n",
            "Collecting pydantic-settings<3.0.0,>=2.4.0 (from langchain-community)\n",
            "  Downloading pydantic_settings-2.6.1-py3-none-any.whl.metadata (3.5 kB)\n",
            "Requirement already satisfied: requests<3,>=2 in /usr/local/lib/python3.10/dist-packages (from langchain-community) (2.32.3)\n",
            "Requirement already satisfied: tenacity!=8.4.0,<10,>=8.1.0 in /usr/local/lib/python3.10/dist-packages (from langchain-community) (9.0.0)\n",
            "Collecting langgraph-checkpoint<3.0.0,>=2.0.4 (from langgraph)\n",
            "  Downloading langgraph_checkpoint-2.0.8-py3-none-any.whl.metadata (4.6 kB)\n",
            "Collecting langgraph-sdk<0.2.0,>=0.1.42 (from langgraph)\n",
            "  Downloading langgraph_sdk-0.1.43-py3-none-any.whl.metadata (1.8 kB)\n",
            "Collecting groq<1,>=0.4.1 (from langchain-groq)\n",
            "  Downloading groq-0.13.0-py3-none-any.whl.metadata (13 kB)\n",
            "Collecting tiktoken>=0.5.1 (from tavily-python)\n",
            "  Downloading tiktoken-0.8.0-cp310-cp310-manylinux_2_17_x86_64.manylinux2014_x86_64.whl.metadata (6.6 kB)\n",
            "Requirement already satisfied: httpx in /usr/local/lib/python3.10/dist-packages (from tavily-python) (0.28.0)\n",
            "Collecting aiosqlite<0.21.0,>=0.20.0 (from langgraph-checkpoint-sqlite)\n",
            "  Downloading aiosqlite-0.20.0-py3-none-any.whl.metadata (4.3 kB)\n",
            "Requirement already satisfied: aiohappyeyeballs>=2.3.0 in /usr/local/lib/python3.10/dist-packages (from aiohttp<4.0.0,>=3.8.3->langchain-community) (2.4.4)\n",
            "Requirement already satisfied: aiosignal>=1.1.2 in /usr/local/lib/python3.10/dist-packages (from aiohttp<4.0.0,>=3.8.3->langchain-community) (1.3.1)\n",
            "Requirement already satisfied: async-timeout<6.0,>=4.0 in /usr/local/lib/python3.10/dist-packages (from aiohttp<4.0.0,>=3.8.3->langchain-community) (4.0.3)\n",
            "Requirement already satisfied: attrs>=17.3.0 in /usr/local/lib/python3.10/dist-packages (from aiohttp<4.0.0,>=3.8.3->langchain-community) (24.2.0)\n",
            "Requirement already satisfied: frozenlist>=1.1.1 in /usr/local/lib/python3.10/dist-packages (from aiohttp<4.0.0,>=3.8.3->langchain-community) (1.5.0)\n",
            "Requirement already satisfied: multidict<7.0,>=4.5 in /usr/local/lib/python3.10/dist-packages (from aiohttp<4.0.0,>=3.8.3->langchain-community) (6.1.0)\n",
            "Requirement already satisfied: propcache>=0.2.0 in /usr/local/lib/python3.10/dist-packages (from aiohttp<4.0.0,>=3.8.3->langchain-community) (0.2.1)\n",
            "Requirement already satisfied: yarl<2.0,>=1.17.0 in /usr/local/lib/python3.10/dist-packages (from aiohttp<4.0.0,>=3.8.3->langchain-community) (1.18.3)\n",
            "Requirement already satisfied: typing_extensions>=4.0 in /usr/local/lib/python3.10/dist-packages (from aiosqlite<0.21.0,>=0.20.0->langgraph-checkpoint-sqlite) (4.12.2)\n",
            "Collecting marshmallow<4.0.0,>=3.18.0 (from dataclasses-json<0.7,>=0.5.7->langchain-community)\n",
            "  Downloading marshmallow-3.23.1-py3-none-any.whl.metadata (7.5 kB)\n",
            "Collecting typing-inspect<1,>=0.4.0 (from dataclasses-json<0.7,>=0.5.7->langchain-community)\n",
            "  Downloading typing_inspect-0.9.0-py3-none-any.whl.metadata (1.5 kB)\n",
            "Requirement already satisfied: anyio<5,>=3.5.0 in /usr/local/lib/python3.10/dist-packages (from groq<1,>=0.4.1->langchain-groq) (3.7.1)\n",
            "Requirement already satisfied: distro<2,>=1.7.0 in /usr/local/lib/python3.10/dist-packages (from groq<1,>=0.4.1->langchain-groq) (1.9.0)\n",
            "Requirement already satisfied: pydantic<3,>=1.9.0 in /usr/local/lib/python3.10/dist-packages (from groq<1,>=0.4.1->langchain-groq) (2.10.3)\n",
            "Requirement already satisfied: sniffio in /usr/local/lib/python3.10/dist-packages (from groq<1,>=0.4.1->langchain-groq) (1.3.1)\n",
            "Requirement already satisfied: certifi in /usr/local/lib/python3.10/dist-packages (from httpx->tavily-python) (2024.8.30)\n",
            "Requirement already satisfied: httpcore==1.* in /usr/local/lib/python3.10/dist-packages (from httpx->tavily-python) (1.0.7)\n",
            "Requirement already satisfied: idna in /usr/local/lib/python3.10/dist-packages (from httpx->tavily-python) (3.10)\n",
            "Requirement already satisfied: h11<0.15,>=0.13 in /usr/local/lib/python3.10/dist-packages (from httpcore==1.*->httpx->tavily-python) (0.14.0)\n",
            "Requirement already satisfied: langchain-text-splitters<0.4.0,>=0.3.0 in /usr/local/lib/python3.10/dist-packages (from langchain<0.4.0,>=0.3.11->langchain-community) (0.3.2)\n",
            "Requirement already satisfied: jsonpatch<2.0,>=1.33 in /usr/local/lib/python3.10/dist-packages (from langchain-core<0.4.0,>=0.3.24->langchain-community) (1.33)\n",
            "Requirement already satisfied: packaging<25,>=23.2 in /usr/local/lib/python3.10/dist-packages (from langchain-core<0.4.0,>=0.3.24->langchain-community) (24.2)\n",
            "Requirement already satisfied: msgpack<2.0.0,>=1.1.0 in /usr/local/lib/python3.10/dist-packages (from langgraph-checkpoint<3.0.0,>=2.0.4->langgraph) (1.1.0)\n",
            "Requirement already satisfied: orjson>=3.10.1 in /usr/local/lib/python3.10/dist-packages (from langgraph-sdk<0.2.0,>=0.1.42->langgraph) (3.10.12)\n",
            "Requirement already satisfied: requests-toolbelt<2.0.0,>=1.0.0 in /usr/local/lib/python3.10/dist-packages (from langsmith<0.3,>=0.1.125->langchain-community) (1.0.0)\n",
            "Collecting python-dotenv>=0.21.0 (from pydantic-settings<3.0.0,>=2.4.0->langchain-community)\n",
            "  Downloading python_dotenv-1.0.1-py3-none-any.whl.metadata (23 kB)\n",
            "Requirement already satisfied: charset-normalizer<4,>=2 in /usr/local/lib/python3.10/dist-packages (from requests<3,>=2->langchain-community) (3.4.0)\n",
            "Requirement already satisfied: urllib3<3,>=1.21.1 in /usr/local/lib/python3.10/dist-packages (from requests<3,>=2->langchain-community) (2.2.3)\n",
            "Requirement already satisfied: greenlet!=0.4.17 in /usr/local/lib/python3.10/dist-packages (from SQLAlchemy<3,>=1.4->langchain-community) (3.1.1)\n",
            "Requirement already satisfied: regex>=2022.1.18 in /usr/local/lib/python3.10/dist-packages (from tiktoken>=0.5.1->tavily-python) (2024.9.11)\n",
            "Requirement already satisfied: exceptiongroup in /usr/local/lib/python3.10/dist-packages (from anyio<5,>=3.5.0->groq<1,>=0.4.1->langchain-groq) (1.2.2)\n",
            "Requirement already satisfied: jsonpointer>=1.9 in /usr/local/lib/python3.10/dist-packages (from jsonpatch<2.0,>=1.33->langchain-core<0.4.0,>=0.3.24->langchain-community) (3.0.0)\n",
            "Requirement already satisfied: annotated-types>=0.6.0 in /usr/local/lib/python3.10/dist-packages (from pydantic<3,>=1.9.0->groq<1,>=0.4.1->langchain-groq) (0.7.0)\n",
            "Requirement already satisfied: pydantic-core==2.27.1 in /usr/local/lib/python3.10/dist-packages (from pydantic<3,>=1.9.0->groq<1,>=0.4.1->langchain-groq) (2.27.1)\n",
            "Collecting mypy-extensions>=0.3.0 (from typing-inspect<1,>=0.4.0->dataclasses-json<0.7,>=0.5.7->langchain-community)\n",
            "  Downloading mypy_extensions-1.0.0-py3-none-any.whl.metadata (1.1 kB)\n",
            "Downloading langchain_community-0.3.11-py3-none-any.whl (2.5 MB)\n",
            "\u001b[2K   \u001b[90m━━━━━━━━━━━━━━━━━━━━━━━━━━━━━━━━━━━━━━━━\u001b[0m \u001b[32m2.5/2.5 MB\u001b[0m \u001b[31m32.7 MB/s\u001b[0m eta \u001b[36m0:00:00\u001b[0m\n",
            "\u001b[?25hDownloading langgraph-0.2.59-py3-none-any.whl (135 kB)\n",
            "\u001b[2K   \u001b[90m━━━━━━━━━━━━━━━━━━━━━━━━━━━━━━━━━━━━━━━━\u001b[0m \u001b[32m135.8/135.8 kB\u001b[0m \u001b[31m10.0 MB/s\u001b[0m eta \u001b[36m0:00:00\u001b[0m\n",
            "\u001b[?25hDownloading langchain_groq-0.2.1-py3-none-any.whl (14 kB)\n",
            "Downloading tavily_python-0.5.0-py3-none-any.whl (14 kB)\n",
            "Downloading langgraph_checkpoint_sqlite-2.0.1-py3-none-any.whl (12 kB)\n",
            "Downloading aiosqlite-0.20.0-py3-none-any.whl (15 kB)\n",
            "Downloading dataclasses_json-0.6.7-py3-none-any.whl (28 kB)\n",
            "Downloading groq-0.13.0-py3-none-any.whl (108 kB)\n",
            "\u001b[2K   \u001b[90m━━━━━━━━━━━━━━━━━━━━━━━━━━━━━━━━━━━━━━━━\u001b[0m \u001b[32m108.8/108.8 kB\u001b[0m \u001b[31m7.5 MB/s\u001b[0m eta \u001b[36m0:00:00\u001b[0m\n",
            "\u001b[?25hDownloading httpx_sse-0.4.0-py3-none-any.whl (7.8 kB)\n",
            "Downloading langchain-0.3.11-py3-none-any.whl (1.0 MB)\n",
            "\u001b[2K   \u001b[90m━━━━━━━━━━━━━━━━━━━━━━━━━━━━━━━━━━━━━━━━\u001b[0m \u001b[32m1.0/1.0 MB\u001b[0m \u001b[31m38.4 MB/s\u001b[0m eta \u001b[36m0:00:00\u001b[0m\n",
            "\u001b[?25hDownloading langchain_core-0.3.24-py3-none-any.whl (410 kB)\n",
            "\u001b[2K   \u001b[90m━━━━━━━━━━━━━━━━━━━━━━━━━━━━━━━━━━━━━━━━\u001b[0m \u001b[32m410.6/410.6 kB\u001b[0m \u001b[31m23.2 MB/s\u001b[0m eta \u001b[36m0:00:00\u001b[0m\n",
            "\u001b[?25hDownloading langgraph_checkpoint-2.0.8-py3-none-any.whl (35 kB)\n",
            "Downloading langgraph_sdk-0.1.43-py3-none-any.whl (31 kB)\n",
            "Downloading pydantic_settings-2.6.1-py3-none-any.whl (28 kB)\n",
            "Downloading tiktoken-0.8.0-cp310-cp310-manylinux_2_17_x86_64.manylinux2014_x86_64.whl (1.2 MB)\n",
            "\u001b[2K   \u001b[90m━━━━━━━━━━━━━━━━━━━━━━━━━━━━━━━━━━━━━━━━\u001b[0m \u001b[32m1.2/1.2 MB\u001b[0m \u001b[31m44.1 MB/s\u001b[0m eta \u001b[36m0:00:00\u001b[0m\n",
            "\u001b[?25hDownloading marshmallow-3.23.1-py3-none-any.whl (49 kB)\n",
            "\u001b[2K   \u001b[90m━━━━━━━━━━━━━━━━━━━━━━━━━━━━━━━━━━━━━━━━\u001b[0m \u001b[32m49.5/49.5 kB\u001b[0m \u001b[31m3.3 MB/s\u001b[0m eta \u001b[36m0:00:00\u001b[0m\n",
            "\u001b[?25hDownloading python_dotenv-1.0.1-py3-none-any.whl (19 kB)\n",
            "Downloading typing_inspect-0.9.0-py3-none-any.whl (8.8 kB)\n",
            "Downloading mypy_extensions-1.0.0-py3-none-any.whl (4.7 kB)\n",
            "Installing collected packages: python-dotenv, mypy-extensions, marshmallow, httpx-sse, aiosqlite, typing-inspect, tiktoken, tavily-python, pydantic-settings, langgraph-sdk, groq, dataclasses-json, langchain-core, langgraph-checkpoint, langchain-groq, langgraph-checkpoint-sqlite, langgraph, langchain, langchain-community\n",
            "  Attempting uninstall: langchain-core\n",
            "    Found existing installation: langchain-core 0.3.21\n",
            "    Uninstalling langchain-core-0.3.21:\n",
            "      Successfully uninstalled langchain-core-0.3.21\n",
            "  Attempting uninstall: langchain\n",
            "    Found existing installation: langchain 0.3.9\n",
            "    Uninstalling langchain-0.3.9:\n",
            "      Successfully uninstalled langchain-0.3.9\n",
            "Successfully installed aiosqlite-0.20.0 dataclasses-json-0.6.7 groq-0.13.0 httpx-sse-0.4.0 langchain-0.3.11 langchain-community-0.3.11 langchain-core-0.3.24 langchain-groq-0.2.1 langgraph-0.2.59 langgraph-checkpoint-2.0.8 langgraph-checkpoint-sqlite-2.0.1 langgraph-sdk-0.1.43 marshmallow-3.23.1 mypy-extensions-1.0.0 pydantic-settings-2.6.1 python-dotenv-1.0.1 tavily-python-0.5.0 tiktoken-0.8.0 typing-inspect-0.9.0\n"
          ]
        }
      ],
      "source": [
        "!pip install langchain-community langgraph langchain-groq tavily-python langgraph-checkpoint-sqlite"
      ]
    },
    {
      "cell_type": "code",
      "source": [
        "\n",
        "from google.colab import userdata\n",
        "import os\n",
        "\n",
        "os.environ[\"LANGCHAIN_TRACING_V2\"]=\"true\"\n",
        "os.environ[\"LANGCHAIN_ENDPOINT\"]=\"https://api.smith.langchain.com\"\n",
        "os.environ[\"LANGCHAIN_API_KEY\"]=userdata.get('LANGCHAIN_API_KEY')\n",
        "os.environ[\"LANGCHAIN_PROJECT\"]=\"langchain_tutorials\""
      ],
      "metadata": {
        "id": "GoqjqUS8zAIz"
      },
      "execution_count": 5,
      "outputs": []
    },
    {
      "cell_type": "code",
      "source": [
        "os.environ[\"TAVILY_API_KEY\"]=userdata.get('TAVILY_API_KEY')"
      ],
      "metadata": {
        "id": "bNhpxWPYzR66"
      },
      "execution_count": 7,
      "outputs": []
    },
    {
      "cell_type": "code",
      "source": [
        "from langchain_community.tools.tavily_search import TavilySearchResults\n",
        "\n",
        "search = TavilySearchResults(max_results=2)\n",
        "search_results = search.invoke(\"what is the weather in BLR\")\n",
        "print(search_results)\n",
        "# If we want, we can create other tools.\n",
        "# Once we have all the tools we want, we can put them in a list that we will reference later.\n",
        "tools = [search]"
      ],
      "metadata": {
        "colab": {
          "base_uri": "https://localhost:8080/"
        },
        "id": "IULyDtXN2PgE",
        "outputId": "a07916d0-fa73-491f-c481-8127890ab337"
      },
      "execution_count": 10,
      "outputs": [
        {
          "output_type": "stream",
          "name": "stdout",
          "text": [
            "[{'url': 'https://www.weatherapi.com/', 'content': \"{'location': {'name': 'Bangalore', 'region': 'Karnataka', 'country': 'India', 'lat': 12.9833, 'lon': 77.5833, 'tz_id': 'Asia/Kolkata', 'localtime_epoch': 1734005375, 'localtime': '2024-12-12 17:39'}, 'current': {'last_updated_epoch': 1734004800, 'last_updated': '2024-12-12 17:30', 'temp_c': 23.3, 'temp_f': 73.9, 'is_day': 1, 'condition': {'text': 'Light drizzle', 'icon': '//cdn.weatherapi.com/weather/64x64/day/266.png', 'code': 1153}, 'wind_mph': 7.8, 'wind_kph': 12.6, 'wind_degree': 35, 'wind_dir': 'NE', 'pressure_mb': 1014.0, 'pressure_in': 29.94, 'precip_mm': 1.64, 'precip_in': 0.06, 'humidity': 89, 'cloud': 75, 'feelslike_c': 25.7, 'feelslike_f': 78.3, 'windchill_c': 19.9, 'windchill_f': 67.8, 'heatindex_c': 19.9, 'heatindex_f': 67.8, 'dewpoint_c': 19.0, 'dewpoint_f': 66.3, 'vis_km': 3.0, 'vis_miles': 1.0, 'uv': 0.0, 'gust_mph': 10.7, 'gust_kph': 17.2}}\"}, {'url': 'https://www.hindustantimes.com/cities/bengaluru-news/bangalore-weather-today-aqi-and-rain-forecast-updates-december-12-2024-101733967007450.html', 'content': 'Bangalore Weather and AQI Today: Check weather forecast for December 12, 2024 | Bengaluru - Hindustan Times HT E-paper Access digital news experience Delhi News News / Cities / Bengaluru / Bangalore Weather and AQI Today: Check weather forecast for December 12, 2024 World News India News CITY NEWS Delhi News TRENDING NEWS World News India News LIVE World News India News India News LIVE Jammu and Kashmir Weather and AQI Today: Cool start at -25.58 °C, check weather forecast for December 12, 2024 Noida News Live Today December 12, 2024 : Noida Weather and AQI Today: Check weather forecast for December 12, 2024 India News World News US News india news News Photos More from HT'}]\n"
          ]
        }
      ]
    },
    {
      "cell_type": "code",
      "source": [
        "os.environ[\"GROQ_API_KEY\"] = userdata.get('GROQ_API_KEY')\n",
        "\n",
        "from langchain_groq import ChatGroq\n",
        "\n",
        "model = ChatGroq(model=\"llama-3.3-70b-versatile\")"
      ],
      "metadata": {
        "id": "tr5lQph026_D"
      },
      "execution_count": 11,
      "outputs": []
    },
    {
      "cell_type": "code",
      "source": [
        "from langchain_core.messages import HumanMessage\n",
        "\n",
        "response = model.invoke([HumanMessage(content = \"Hi\")])\n",
        "\n",
        "response.content"
      ],
      "metadata": {
        "colab": {
          "base_uri": "https://localhost:8080/",
          "height": 36
        },
        "id": "8NX--xMX29oz",
        "outputId": "a5a5852e-dcba-4019-ab77-fee0095501b8"
      },
      "execution_count": 13,
      "outputs": [
        {
          "output_type": "execute_result",
          "data": {
            "text/plain": [
              "\"It's nice to meet you. Is there something I can help you with or would you like to chat?\""
            ],
            "application/vnd.google.colaboratory.intrinsic+json": {
              "type": "string"
            }
          },
          "metadata": {},
          "execution_count": 13
        }
      ]
    },
    {
      "cell_type": "code",
      "source": [
        "model_with_tools = model.bind_tools(tools)"
      ],
      "metadata": {
        "id": "JAFZ9EK53Uy9"
      },
      "execution_count": 14,
      "outputs": []
    },
    {
      "cell_type": "code",
      "source": [
        "response = model_with_tools.invoke([HumanMessage(content=\"Hi!\")])\n",
        "\n",
        "print(f\"ContentString: {response.content}\")\n",
        "print(f\"ToolCalls: {response.tool_calls}\")"
      ],
      "metadata": {
        "colab": {
          "base_uri": "https://localhost:8080/"
        },
        "id": "AefCxe1u3gzU",
        "outputId": "4c378c1c-a1b8-4271-83d4-2c5be3f2a9c9"
      },
      "execution_count": 15,
      "outputs": [
        {
          "output_type": "stream",
          "name": "stdout",
          "text": [
            "ContentString: I'm happy to chat with you, but I don't see a question or topic that you'd like to discuss. Is there something I can help you with or would you like to start a conversation?\n",
            "ToolCalls: []\n"
          ]
        }
      ]
    },
    {
      "cell_type": "code",
      "source": [
        "response = model_with_tools.invoke([HumanMessage(content=\"What's the weather in BLR?\")])\n",
        "\n",
        "print(f\"ContentString: {response.content}\")\n",
        "print(f\"ToolCalls: {response.tool_calls}\")"
      ],
      "metadata": {
        "colab": {
          "base_uri": "https://localhost:8080/"
        },
        "id": "4gl0hJp23ncj",
        "outputId": "3f737ee6-3dec-41cf-a6d3-f38c9d2e8930"
      },
      "execution_count": 17,
      "outputs": [
        {
          "output_type": "stream",
          "name": "stdout",
          "text": [
            "ContentString: \n",
            "ToolCalls: [{'name': 'tavily_search_results_json', 'args': {'query': 'BLR weather'}, 'id': 'call_vepx', 'type': 'tool_call'}]\n"
          ]
        }
      ]
    },
    {
      "cell_type": "code",
      "source": [
        "from langgraph.prebuilt import create_react_agent\n",
        "\n",
        "agent_executor = create_react_agent(model, tools)"
      ],
      "metadata": {
        "id": "1IuOrEbo4EoT"
      },
      "execution_count": 18,
      "outputs": []
    },
    {
      "cell_type": "code",
      "source": [
        "response = agent_executor.invoke({\"messages\": [HumanMessage(content=\"hi!\")]})\n",
        "\n",
        "response[\"messages\"]"
      ],
      "metadata": {
        "colab": {
          "base_uri": "https://localhost:8080/"
        },
        "id": "dt-ouK4U4F-i",
        "outputId": "9b4ea925-7b3d-49ec-e5e5-bf0325ec226f"
      },
      "execution_count": 19,
      "outputs": [
        {
          "output_type": "execute_result",
          "data": {
            "text/plain": [
              "[HumanMessage(content='hi!', additional_kwargs={}, response_metadata={}, id='f11df159-5118-42d0-affa-7116edddcc5c'),\n",
              " AIMessage(content=\"I'm happy to chat with you, but I don't see a question that I can help with. Is there something I can assist you with? Perhaps you'd like to ask about current events?\", additional_kwargs={}, response_metadata={'token_usage': {'completion_tokens': 41, 'prompt_tokens': 280, 'total_tokens': 321, 'completion_time': 0.149090909, 'prompt_time': 0.033918678, 'queue_time': 0.011323378000000002, 'total_time': 0.183009587}, 'model_name': 'llama-3.3-70b-versatile', 'system_fingerprint': 'fp_4e32347616', 'finish_reason': 'stop', 'logprobs': None}, id='run-9e100825-e6c9-4fe9-ba48-a917e8fe1981-0', usage_metadata={'input_tokens': 280, 'output_tokens': 41, 'total_tokens': 321})]"
            ]
          },
          "metadata": {},
          "execution_count": 19
        }
      ]
    },
    {
      "cell_type": "code",
      "source": [
        "response = agent_executor.invoke(\n",
        "    {\"messages\": [HumanMessage(content=\"whats the weather in sf?\")]}\n",
        ")\n",
        "response[\"messages\"]"
      ],
      "metadata": {
        "colab": {
          "base_uri": "https://localhost:8080/"
        },
        "id": "kpfqvtX54lWq",
        "outputId": "254062f4-1347-4624-bde9-225dfb25b74b"
      },
      "execution_count": 20,
      "outputs": [
        {
          "output_type": "execute_result",
          "data": {
            "text/plain": [
              "[HumanMessage(content='whats the weather in sf?', additional_kwargs={}, response_metadata={}, id='efa64907-97b6-414e-82a1-e3f603f76387'),\n",
              " AIMessage(content='', additional_kwargs={'tool_calls': [{'id': 'call_bqyr', 'function': {'arguments': '{\"query\": \"San Francisco weather today\"}', 'name': 'tavily_search_results_json'}, 'type': 'function'}]}, response_metadata={'token_usage': {'completion_tokens': 21, 'prompt_tokens': 285, 'total_tokens': 306, 'completion_time': 0.076363636, 'prompt_time': 0.034753198, 'queue_time': 0.008756820999999998, 'total_time': 0.111116834}, 'model_name': 'llama-3.3-70b-versatile', 'system_fingerprint': 'fp_c0cfa69934', 'finish_reason': 'tool_calls', 'logprobs': None}, id='run-81bae030-b75f-4686-b32e-1640f20a2ac1-0', tool_calls=[{'name': 'tavily_search_results_json', 'args': {'query': 'San Francisco weather today'}, 'id': 'call_bqyr', 'type': 'tool_call'}], usage_metadata={'input_tokens': 285, 'output_tokens': 21, 'total_tokens': 306}),\n",
              " ToolMessage(content='[{\"url\": \"https://www.weatherapi.com/\", \"content\": \"{\\'location\\': {\\'name\\': \\'San Francisco\\', \\'region\\': \\'California\\', \\'country\\': \\'United States of America\\', \\'lat\\': 37.775, \\'lon\\': -122.4183, \\'tz_id\\': \\'America/Los_Angeles\\', \\'localtime_epoch\\': 1734007184, \\'localtime\\': \\'2024-12-12 04:39\\'}, \\'current\\': {\\'last_updated_epoch\\': 1734006600, \\'last_updated\\': \\'2024-12-12 04:30\\', \\'temp_c\\': 12.2, \\'temp_f\\': 54.0, \\'is_day\\': 0, \\'condition\\': {\\'text\\': \\'Light rain\\', \\'icon\\': \\'//cdn.weatherapi.com/weather/64x64/night/296.png\\', \\'code\\': 1183}, \\'wind_mph\\': 7.4, \\'wind_kph\\': 11.9, \\'wind_degree\\': 283, \\'wind_dir\\': \\'WNW\\', \\'pressure_mb\\': 1011.0, \\'pressure_in\\': 29.85, \\'precip_mm\\': 0.0, \\'precip_in\\': 0.0, \\'humidity\\': 86, \\'cloud\\': 100, \\'feelslike_c\\': 11.0, \\'feelslike_f\\': 51.8, \\'windchill_c\\': 9.3, \\'windchill_f\\': 48.7, \\'heatindex_c\\': 11.2, \\'heatindex_f\\': 52.2, \\'dewpoint_c\\': 10.4, \\'dewpoint_f\\': 50.7, \\'vis_km\\': 6.4, \\'vis_miles\\': 3.0, \\'uv\\': 0.0, \\'gust_mph\\': 10.4, \\'gust_kph\\': 16.8}}\"}, {\"url\": \"https://world-weather.info/forecast/usa/san_francisco/december-2024/\", \"content\": \"Detailed ⚡ San Francisco Weather Forecast for December 2024 - day/night 🌡️ temperatures, precipitations - World-Weather.info ... Add the current city. Search. Weather; Archive; Widgets °F. World; United States; California; Weather in San Francisco; Weather in San Francisco in December 2024. ... 12 +59° +48° 13 +59° +50° 14\"}]', name='tavily_search_results_json', id='3640232b-627a-4d25-98d7-123507e9c441', tool_call_id='call_bqyr', artifact={'query': 'San Francisco weather today', 'follow_up_questions': None, 'answer': None, 'images': [], 'results': [{'title': 'Weather in San Francisco', 'url': 'https://www.weatherapi.com/', 'content': \"{'location': {'name': 'San Francisco', 'region': 'California', 'country': 'United States of America', 'lat': 37.775, 'lon': -122.4183, 'tz_id': 'America/Los_Angeles', 'localtime_epoch': 1734007184, 'localtime': '2024-12-12 04:39'}, 'current': {'last_updated_epoch': 1734006600, 'last_updated': '2024-12-12 04:30', 'temp_c': 12.2, 'temp_f': 54.0, 'is_day': 0, 'condition': {'text': 'Light rain', 'icon': '//cdn.weatherapi.com/weather/64x64/night/296.png', 'code': 1183}, 'wind_mph': 7.4, 'wind_kph': 11.9, 'wind_degree': 283, 'wind_dir': 'WNW', 'pressure_mb': 1011.0, 'pressure_in': 29.85, 'precip_mm': 0.0, 'precip_in': 0.0, 'humidity': 86, 'cloud': 100, 'feelslike_c': 11.0, 'feelslike_f': 51.8, 'windchill_c': 9.3, 'windchill_f': 48.7, 'heatindex_c': 11.2, 'heatindex_f': 52.2, 'dewpoint_c': 10.4, 'dewpoint_f': 50.7, 'vis_km': 6.4, 'vis_miles': 3.0, 'uv': 0.0, 'gust_mph': 10.4, 'gust_kph': 16.8}}\", 'score': 0.9992867, 'raw_content': None}, {'title': 'Weather in San Francisco in December 2024', 'url': 'https://world-weather.info/forecast/usa/san_francisco/december-2024/', 'content': 'Detailed ⚡ San Francisco Weather Forecast for December 2024 - day/night 🌡️ temperatures, precipitations - World-Weather.info ... Add the current city. Search. Weather; Archive; Widgets °F. World; United States; California; Weather in San Francisco; Weather in San Francisco in December 2024. ... 12 +59° +48° 13 +59° +50° 14', 'score': 0.9990073, 'raw_content': None}], 'response_time': 2.44}),\n",
              " AIMessage(content='The current weather in San Francisco is light rain with a temperature of 54.0°F (12.2°C) and a humidity of 86%. The wind is blowing at 7.4 mph (11.9 kph) from the WNW direction.', additional_kwargs={}, response_metadata={'token_usage': {'completion_tokens': 55, 'prompt_tokens': 845, 'total_tokens': 900, 'completion_time': 0.2, 'prompt_time': 0.086650246, 'queue_time': 0.002233140999999994, 'total_time': 0.286650246}, 'model_name': 'llama-3.3-70b-versatile', 'system_fingerprint': 'fp_c0cfa69934', 'finish_reason': 'stop', 'logprobs': None}, id='run-8ef0f341-85af-4fd7-a762-554f8e72cc35-0', usage_metadata={'input_tokens': 845, 'output_tokens': 55, 'total_tokens': 900})]"
            ]
          },
          "metadata": {},
          "execution_count": 20
        }
      ]
    },
    {
      "cell_type": "code",
      "source": [
        "for chunk in agent_executor.stream(\n",
        "    {\"messages\": [HumanMessage(content=\"whats the weather in sf?\")]}\n",
        "):\n",
        "    print(chunk)\n",
        "    print(\"----\")"
      ],
      "metadata": {
        "colab": {
          "base_uri": "https://localhost:8080/"
        },
        "id": "GTWlG9Uu4-ES",
        "outputId": "09e74c1a-546c-4741-ad07-b58dba517c51"
      },
      "execution_count": 21,
      "outputs": [
        {
          "output_type": "stream",
          "name": "stdout",
          "text": [
            "{'agent': {'messages': [AIMessage(content='', additional_kwargs={'tool_calls': [{'id': 'call_wsax', 'function': {'arguments': '{\"query\": \"San Francisco weather\"}', 'name': 'tavily_search_results_json'}, 'type': 'function'}]}, response_metadata={'token_usage': {'completion_tokens': 20, 'prompt_tokens': 285, 'total_tokens': 305, 'completion_time': 0.072727273, 'prompt_time': 0.034640966, 'queue_time': 0.148609866, 'total_time': 0.107368239}, 'model_name': 'llama-3.3-70b-versatile', 'system_fingerprint': 'fp_4e32347616', 'finish_reason': 'tool_calls', 'logprobs': None}, id='run-4f9ba261-24b1-4e98-b2fd-a6742508d319-0', tool_calls=[{'name': 'tavily_search_results_json', 'args': {'query': 'San Francisco weather'}, 'id': 'call_wsax', 'type': 'tool_call'}], usage_metadata={'input_tokens': 285, 'output_tokens': 20, 'total_tokens': 305})]}}\n",
            "----\n",
            "{'tools': {'messages': [ToolMessage(content='[{\"url\": \"https://www.weatherapi.com/\", \"content\": \"{\\'location\\': {\\'name\\': \\'San Francisco\\', \\'region\\': \\'California\\', \\'country\\': \\'United States of America\\', \\'lat\\': 37.775, \\'lon\\': -122.4183, \\'tz_id\\': \\'America/Los_Angeles\\', \\'localtime_epoch\\': 1734007184, \\'localtime\\': \\'2024-12-12 04:39\\'}, \\'current\\': {\\'last_updated_epoch\\': 1734006600, \\'last_updated\\': \\'2024-12-12 04:30\\', \\'temp_c\\': 12.2, \\'temp_f\\': 54.0, \\'is_day\\': 0, \\'condition\\': {\\'text\\': \\'Light rain\\', \\'icon\\': \\'//cdn.weatherapi.com/weather/64x64/night/296.png\\', \\'code\\': 1183}, \\'wind_mph\\': 7.4, \\'wind_kph\\': 11.9, \\'wind_degree\\': 283, \\'wind_dir\\': \\'WNW\\', \\'pressure_mb\\': 1011.0, \\'pressure_in\\': 29.85, \\'precip_mm\\': 0.0, \\'precip_in\\': 0.0, \\'humidity\\': 86, \\'cloud\\': 100, \\'feelslike_c\\': 11.0, \\'feelslike_f\\': 51.8, \\'windchill_c\\': 9.3, \\'windchill_f\\': 48.7, \\'heatindex_c\\': 11.2, \\'heatindex_f\\': 52.2, \\'dewpoint_c\\': 10.4, \\'dewpoint_f\\': 50.7, \\'vis_km\\': 6.4, \\'vis_miles\\': 3.0, \\'uv\\': 0.0, \\'gust_mph\\': 10.4, \\'gust_kph\\': 16.8}}\"}, {\"url\": \"https://world-weather.info/forecast/usa/san_francisco/december-2024/\", \"content\": \"Detailed ⚡ San Francisco Weather Forecast for December 2024 - day/night 🌡️ temperatures, precipitations - World-Weather.info ... Add the current city. Search. Weather; Archive; Widgets °F. World; United States; California; Weather in San Francisco; Weather in San Francisco in December 2024. ... 12 +59° +48° 13 +59° +50° 14\"}]', name='tavily_search_results_json', id='db9c2642-be5c-43d8-9b7b-d70f39a50e26', tool_call_id='call_wsax', artifact={'query': 'San Francisco weather', 'follow_up_questions': None, 'answer': None, 'images': [], 'results': [{'title': 'Weather in San Francisco', 'url': 'https://www.weatherapi.com/', 'content': \"{'location': {'name': 'San Francisco', 'region': 'California', 'country': 'United States of America', 'lat': 37.775, 'lon': -122.4183, 'tz_id': 'America/Los_Angeles', 'localtime_epoch': 1734007184, 'localtime': '2024-12-12 04:39'}, 'current': {'last_updated_epoch': 1734006600, 'last_updated': '2024-12-12 04:30', 'temp_c': 12.2, 'temp_f': 54.0, 'is_day': 0, 'condition': {'text': 'Light rain', 'icon': '//cdn.weatherapi.com/weather/64x64/night/296.png', 'code': 1183}, 'wind_mph': 7.4, 'wind_kph': 11.9, 'wind_degree': 283, 'wind_dir': 'WNW', 'pressure_mb': 1011.0, 'pressure_in': 29.85, 'precip_mm': 0.0, 'precip_in': 0.0, 'humidity': 86, 'cloud': 100, 'feelslike_c': 11.0, 'feelslike_f': 51.8, 'windchill_c': 9.3, 'windchill_f': 48.7, 'heatindex_c': 11.2, 'heatindex_f': 52.2, 'dewpoint_c': 10.4, 'dewpoint_f': 50.7, 'vis_km': 6.4, 'vis_miles': 3.0, 'uv': 0.0, 'gust_mph': 10.4, 'gust_kph': 16.8}}\", 'score': 0.9991109, 'raw_content': None}, {'title': 'Weather in San Francisco in December 2024', 'url': 'https://world-weather.info/forecast/usa/san_francisco/december-2024/', 'content': 'Detailed ⚡ San Francisco Weather Forecast for December 2024 - day/night 🌡️ temperatures, precipitations - World-Weather.info ... Add the current city. Search. Weather; Archive; Widgets °F. World; United States; California; Weather in San Francisco; Weather in San Francisco in December 2024. ... 12 +59° +48° 13 +59° +50° 14', 'score': 0.9990073, 'raw_content': None}], 'response_time': 2.42})]}}\n",
            "----\n",
            "{'agent': {'messages': [AIMessage(content='The current weather in San Francisco is light rain with a temperature of 54.0°F (12.2°C) and a humidity of 86%. The wind is blowing at 7.4 mph (11.9 kph) from the WNW direction.', additional_kwargs={}, response_metadata={'token_usage': {'completion_tokens': 55, 'prompt_tokens': 844, 'total_tokens': 899, 'completion_time': 0.2, 'prompt_time': 0.117548086, 'queue_time': 0.029721252000000004, 'total_time': 0.317548086}, 'model_name': 'llama-3.3-70b-versatile', 'system_fingerprint': 'fp_4e32347616', 'finish_reason': 'stop', 'logprobs': None}, id='run-d5d97228-6cf5-4891-b408-d09cb396257a-0', usage_metadata={'input_tokens': 844, 'output_tokens': 55, 'total_tokens': 899})]}}\n",
            "----\n"
          ]
        }
      ]
    },
    {
      "cell_type": "code",
      "source": [
        "async for event in agent_executor.astream_events(\n",
        "    {\"messages\": [HumanMessage(content=\"whats the weather in sf?\")]}, version=\"v1\"\n",
        "):\n",
        "    kind = event[\"event\"]\n",
        "    if kind == \"on_chain_start\":\n",
        "        if (\n",
        "            event[\"name\"] == \"Agent\"\n",
        "        ):  # Was assigned when creating the agent with `.with_config({\"run_name\": \"Agent\"})`\n",
        "            print(\n",
        "                f\"Starting agent: {event['name']} with input: {event['data'].get('input')}\"\n",
        "            )\n",
        "    elif kind == \"on_chain_end\":\n",
        "        if (\n",
        "            event[\"name\"] == \"Agent\"\n",
        "        ):  # Was assigned when creating the agent with `.with_config({\"run_name\": \"Agent\"})`\n",
        "            print()\n",
        "            print(\"--\")\n",
        "            print(\n",
        "                f\"Done agent: {event['name']} with output: {event['data'].get('output')['output']}\"\n",
        "            )\n",
        "    if kind == \"on_chat_model_stream\":\n",
        "        content = event[\"data\"][\"chunk\"].content\n",
        "        if content:\n",
        "            # Empty content in the context of OpenAI means\n",
        "            # that the model is asking for a tool to be invoked.\n",
        "            # So we only print non-empty content\n",
        "            print(content, end=\"|\")\n",
        "    elif kind == \"on_tool_start\":\n",
        "        print(\"--\")\n",
        "        print(\n",
        "            f\"Starting tool: {event['name']} with inputs: {event['data'].get('input')}\"\n",
        "        )\n",
        "    elif kind == \"on_tool_end\":\n",
        "        print(f\"Done tool: {event['name']}\")\n",
        "        print(f\"Tool output was: {event['data'].get('output')}\")\n",
        "        print(\"--\")"
      ],
      "metadata": {
        "colab": {
          "base_uri": "https://localhost:8080/"
        },
        "id": "c85RgELL5gVL",
        "outputId": "dc36d2ac-6579-45e8-c196-fb3b4f648e8f"
      },
      "execution_count": 22,
      "outputs": [
        {
          "output_type": "stream",
          "name": "stdout",
          "text": [
            "--\n",
            "Starting tool: tavily_search_results_json with inputs: {'query': 'San Francisco weather'}\n",
            "Done tool: tavily_search_results_json\n",
            "Tool output was: content='[{\"url\": \"https://www.weatherapi.com/\", \"content\": \"{\\'location\\': {\\'name\\': \\'San Francisco\\', \\'region\\': \\'California\\', \\'country\\': \\'United States of America\\', \\'lat\\': 37.775, \\'lon\\': -122.4183, \\'tz_id\\': \\'America/Los_Angeles\\', \\'localtime_epoch\\': 1734007399, \\'localtime\\': \\'2024-12-12 04:43\\'}, \\'current\\': {\\'last_updated_epoch\\': 1734006600, \\'last_updated\\': \\'2024-12-12 04:30\\', \\'temp_c\\': 12.2, \\'temp_f\\': 54.0, \\'is_day\\': 0, \\'condition\\': {\\'text\\': \\'Light rain\\', \\'icon\\': \\'//cdn.weatherapi.com/weather/64x64/night/296.png\\', \\'code\\': 1183}, \\'wind_mph\\': 7.4, \\'wind_kph\\': 11.9, \\'wind_degree\\': 283, \\'wind_dir\\': \\'WNW\\', \\'pressure_mb\\': 1011.0, \\'pressure_in\\': 29.85, \\'precip_mm\\': 0.0, \\'precip_in\\': 0.0, \\'humidity\\': 86, \\'cloud\\': 100, \\'feelslike_c\\': 11.0, \\'feelslike_f\\': 51.8, \\'windchill_c\\': 9.3, \\'windchill_f\\': 48.7, \\'heatindex_c\\': 11.2, \\'heatindex_f\\': 52.2, \\'dewpoint_c\\': 10.4, \\'dewpoint_f\\': 50.7, \\'vis_km\\': 6.4, \\'vis_miles\\': 3.0, \\'uv\\': 0.0, \\'gust_mph\\': 10.4, \\'gust_kph\\': 16.8}}\"}, {\"url\": \"https://world-weather.info/forecast/usa/san_francisco/december-2024/\", \"content\": \"Detailed ⚡ San Francisco Weather Forecast for December 2024 - day/night 🌡️ temperatures, precipitations - World-Weather.info ... Add the current city. Search. Weather; Archive; Widgets °F. World; United States; California; Weather in San Francisco; Weather in San Francisco in December 2024. ... 12 +59° +48° 13 +59° +50° 14\"}]' name='tavily_search_results_json' tool_call_id='call_b047' artifact={'query': 'San Francisco weather', 'follow_up_questions': None, 'answer': None, 'images': [], 'results': [{'title': 'Weather in San Francisco', 'url': 'https://www.weatherapi.com/', 'content': \"{'location': {'name': 'San Francisco', 'region': 'California', 'country': 'United States of America', 'lat': 37.775, 'lon': -122.4183, 'tz_id': 'America/Los_Angeles', 'localtime_epoch': 1734007399, 'localtime': '2024-12-12 04:43'}, 'current': {'last_updated_epoch': 1734006600, 'last_updated': '2024-12-12 04:30', 'temp_c': 12.2, 'temp_f': 54.0, 'is_day': 0, 'condition': {'text': 'Light rain', 'icon': '//cdn.weatherapi.com/weather/64x64/night/296.png', 'code': 1183}, 'wind_mph': 7.4, 'wind_kph': 11.9, 'wind_degree': 283, 'wind_dir': 'WNW', 'pressure_mb': 1011.0, 'pressure_in': 29.85, 'precip_mm': 0.0, 'precip_in': 0.0, 'humidity': 86, 'cloud': 100, 'feelslike_c': 11.0, 'feelslike_f': 51.8, 'windchill_c': 9.3, 'windchill_f': 48.7, 'heatindex_c': 11.2, 'heatindex_f': 52.2, 'dewpoint_c': 10.4, 'dewpoint_f': 50.7, 'vis_km': 6.4, 'vis_miles': 3.0, 'uv': 0.0, 'gust_mph': 10.4, 'gust_kph': 16.8}}\", 'score': 0.9999269, 'raw_content': None}, {'title': 'Weather in San Francisco in December 2024', 'url': 'https://world-weather.info/forecast/usa/san_francisco/december-2024/', 'content': 'Detailed ⚡ San Francisco Weather Forecast for December 2024 - day/night 🌡️ temperatures, precipitations - World-Weather.info ... Add the current city. Search. Weather; Archive; Widgets °F. World; United States; California; Weather in San Francisco; Weather in San Francisco in December 2024. ... 12 +59° +48° 13 +59° +50° 14', 'score': 0.99932015, 'raw_content': None}], 'response_time': 2.79}\n",
            "--\n",
            "The| current| weather| in| San| Francisco| is| light| rain| with| a| temperature| of| |54|.|0|°F| (|12|.|2|°C|)| and| a| humidity| of| |86|%.| The| wind| is| blowing| at| |7|.|4| mph| (|11|.|9| k|ph|)| from| the| W|NW| direction|.|"
          ]
        }
      ]
    },
    {
      "cell_type": "code",
      "source": [
        "from langgraph.checkpoint.memory import MemorySaver\n",
        "\n",
        "memory = MemorySaver()"
      ],
      "metadata": {
        "id": "0h18nBTL50v8"
      },
      "execution_count": 23,
      "outputs": []
    },
    {
      "cell_type": "code",
      "source": [
        "agent_executor = create_react_agent(model, tools, checkpointer=memory)\n",
        "\n",
        "config = {\"configurable\": {\"thread_id\": \"abc123\"}}"
      ],
      "metadata": {
        "id": "ozvdvE8456UU"
      },
      "execution_count": 24,
      "outputs": []
    },
    {
      "cell_type": "code",
      "source": [
        "for chunk in agent_executor.stream(\n",
        "    {\"messages\": [HumanMessage(content=\"hi im bob!\")]}, config\n",
        "):\n",
        "    print(chunk)\n",
        "    print(\"----\")"
      ],
      "metadata": {
        "colab": {
          "base_uri": "https://localhost:8080/"
        },
        "id": "ZUGRaPnc58mT",
        "outputId": "b7672606-63bc-4067-d1d9-b39d24f7e5c5"
      },
      "execution_count": 25,
      "outputs": [
        {
          "output_type": "stream",
          "name": "stdout",
          "text": [
            "{'agent': {'messages': [AIMessage(content=\"It's nice to meet you, Bob. Is there something I can help you with or would you like to chat?\", additional_kwargs={}, response_metadata={'token_usage': {'completion_tokens': 25, 'prompt_tokens': 282, 'total_tokens': 307, 'completion_time': 0.090909091, 'prompt_time': 0.036159268, 'queue_time': 0.007977628, 'total_time': 0.127068359}, 'model_name': 'llama-3.3-70b-versatile', 'system_fingerprint': 'fp_c0cfa69934', 'finish_reason': 'stop', 'logprobs': None}, id='run-3fc92bd8-69fa-4589-967e-c03897ece575-0', usage_metadata={'input_tokens': 282, 'output_tokens': 25, 'total_tokens': 307})]}}\n",
            "----\n"
          ]
        }
      ]
    },
    {
      "cell_type": "code",
      "source": [
        "for chunk in agent_executor.stream(\n",
        "    {\"messages\": [HumanMessage(content=\"whats my name?\")]}, config\n",
        "):\n",
        "    print(chunk)\n",
        "    print(\"----\")"
      ],
      "metadata": {
        "colab": {
          "base_uri": "https://localhost:8080/"
        },
        "id": "xnw2K9jl6Bxr",
        "outputId": "19f7be89-9e57-49d0-b4e9-3403d476feca"
      },
      "execution_count": 26,
      "outputs": [
        {
          "output_type": "stream",
          "name": "stdout",
          "text": [
            "{'agent': {'messages': [AIMessage(content='Your name is Bob.', additional_kwargs={}, response_metadata={'token_usage': {'completion_tokens': 6, 'prompt_tokens': 321, 'total_tokens': 327, 'completion_time': 0.021818182, 'prompt_time': 0.043445668, 'queue_time': 0.008984985000000001, 'total_time': 0.06526385}, 'model_name': 'llama-3.3-70b-versatile', 'system_fingerprint': 'fp_4e32347616', 'finish_reason': 'stop', 'logprobs': None}, id='run-d2a399c3-461a-40f5-b79d-3cc62c34c8aa-0', usage_metadata={'input_tokens': 321, 'output_tokens': 6, 'total_tokens': 327})]}}\n",
            "----\n"
          ]
        }
      ]
    },
    {
      "cell_type": "code",
      "source": [
        "config = {\"configurable\": {\"thread_id\": \"xyz123\"}}\n",
        "for chunk in agent_executor.stream(\n",
        "    {\"messages\": [HumanMessage(content=\"whats my name?\")]}, config\n",
        "):\n",
        "    print(chunk)\n",
        "    print(\"----\")"
      ],
      "metadata": {
        "colab": {
          "base_uri": "https://localhost:8080/"
        },
        "id": "I2wuK2bA6UXd",
        "outputId": "d1246f6c-7c9d-46c3-8f13-6acc5f32b89e"
      },
      "execution_count": 27,
      "outputs": [
        {
          "output_type": "stream",
          "name": "stdout",
          "text": [
            "{'agent': {'messages': [AIMessage(content=\"I don't have any information about your name. If you'd like to share it with me, I can try to assist you further.\", additional_kwargs={}, response_metadata={'token_usage': {'completion_tokens': 29, 'prompt_tokens': 283, 'total_tokens': 312, 'completion_time': 0.105454545, 'prompt_time': 0.032599873, 'queue_time': 0.007609646999999997, 'total_time': 0.138054418}, 'model_name': 'llama-3.3-70b-versatile', 'system_fingerprint': 'fp_c0cfa69934', 'finish_reason': 'stop', 'logprobs': None}, id='run-1986cb7a-a2fc-4c8b-a82e-7ebcaad1176e-0', usage_metadata={'input_tokens': 283, 'output_tokens': 29, 'total_tokens': 312})]}}\n",
            "----\n"
          ]
        }
      ]
    },
    {
      "cell_type": "code",
      "source": [
        "config = {\"configurable\": {\"thread_id\": \"xyz123\"}}\n",
        "for chunk in agent_executor.stream(\n",
        "    {\"messages\": [HumanMessage(content=\"Can yo give me lnks to download NCERT class 1 book?\")]}, config\n",
        "):\n",
        "    print(chunk)\n",
        "    print(\"----\")"
      ],
      "metadata": {
        "colab": {
          "base_uri": "https://localhost:8080/"
        },
        "id": "neHtLiQi6w3k",
        "outputId": "f9096c92-5126-4c4d-8527-9bc3b408f54e"
      },
      "execution_count": 28,
      "outputs": [
        {
          "output_type": "stream",
          "name": "stdout",
          "text": [
            "{'agent': {'messages': [AIMessage(content='', additional_kwargs={'tool_calls': [{'id': 'call_yf57', 'function': {'arguments': '{\"query\": \"NCERT class 1 book download\"}', 'name': 'tavily_search_results_json'}, 'type': 'function'}]}, response_metadata={'token_usage': {'completion_tokens': 24, 'prompt_tokens': 336, 'total_tokens': 360, 'completion_time': 0.087272727, 'prompt_time': 0.040499897, 'queue_time': 0.0037505759999999985, 'total_time': 0.127772624}, 'model_name': 'llama-3.3-70b-versatile', 'system_fingerprint': 'fp_c0cfa69934', 'finish_reason': 'tool_calls', 'logprobs': None}, id='run-7fde1f13-4516-4fc0-a2f6-3a5b5c45d4c9-0', tool_calls=[{'name': 'tavily_search_results_json', 'args': {'query': 'NCERT class 1 book download'}, 'id': 'call_yf57', 'type': 'tool_call'}], usage_metadata={'input_tokens': 336, 'output_tokens': 24, 'total_tokens': 360})]}}\n",
            "----\n",
            "{'tools': {'messages': [ToolMessage(content='[{\"url\": \"https://www.ncertbooks.guru/ncert-books-for-class-1/\", \"content\": \"NCERT Books for Class 1 PDF Download for All Subjects [2023-2024] November 10, 2023 by Kishen. NCERT Books for Class 1 Students are available now in the latest academic session 2023-24. Teachers and aspirants of CBSE schools can download these Class 1 Subject-wise NCERT Textbooks in PDF format from NCERTBooks.guru\\'s website.\"}, {\"url\": \"https://www.vedantu.com/ncert-books/ncert-books-class-1\", \"content\": \"Download NCERT Class 1 Books in PDF for All Subjects in Hindi and English Medium. The educational adventure starts in class 1! The Central Board of Secondary Education considers Class 1 as the foundation for laying the fundamental building blocks that will be applied throughout a person\\'s life, not only as an introduction to complex ideas.\"}]', name='tavily_search_results_json', id='8a02342c-6713-4907-884d-f9f55acf6884', tool_call_id='call_yf57', artifact={'query': 'NCERT class 1 book download', 'follow_up_questions': None, 'answer': None, 'images': [], 'results': [{'title': 'NCERT Books For Class 1 Subject-Wise PDF Free Download', 'url': 'https://www.ncertbooks.guru/ncert-books-for-class-1/', 'content': \"NCERT Books for Class 1 PDF Download for All Subjects [2023-2024] November 10, 2023 by Kishen. NCERT Books for Class 1 Students are available now in the latest academic session 2023-24. Teachers and aspirants of CBSE schools can download these Class 1 Subject-wise NCERT Textbooks in PDF format from NCERTBooks.guru's website.\", 'score': 0.99963164, 'raw_content': None}, {'title': 'NCERT Books for Class 1 Latest Free PDF Download (2024-25) - Vedantu', 'url': 'https://www.vedantu.com/ncert-books/ncert-books-class-1', 'content': \"Download NCERT Class 1 Books in PDF for All Subjects in Hindi and English Medium. The educational adventure starts in class 1! The Central Board of Secondary Education considers Class 1 as the foundation for laying the fundamental building blocks that will be applied throughout a person's life, not only as an introduction to complex ideas.\", 'score': 0.9992735, 'raw_content': None}], 'response_time': 1.79})]}}\n",
            "----\n",
            "{'agent': {'messages': [AIMessage(content=\"You can download NCERT class 1 books from the following links:\\n\\nhttps://www.ncertbooks.guru/ncert-books-for-class-1/\\nhttps://www.vedantu.com/ncert-books/ncert-books-class-1\\n\\nPlease note that these links are subject to change and may not be available at all times. It's always a good idea to check the official NCERT website or other reputable sources for the most up-to-date information.\", additional_kwargs={}, response_metadata={'token_usage': {'completion_tokens': 94, 'prompt_tokens': 575, 'total_tokens': 669, 'completion_time': 0.341818182, 'prompt_time': 0.067640163, 'queue_time': 0.012974744999999996, 'total_time': 0.409458345}, 'model_name': 'llama-3.3-70b-versatile', 'system_fingerprint': 'fp_c0cfa69934', 'finish_reason': 'stop', 'logprobs': None}, id='run-c882280c-a33c-4bff-9a64-393915f8d4e2-0', usage_metadata={'input_tokens': 575, 'output_tokens': 94, 'total_tokens': 669})]}}\n",
            "----\n"
          ]
        }
      ]
    },
    {
      "cell_type": "code",
      "source": [
        "for chunk in agent_executor.stream(\n",
        "    {\"messages\": [HumanMessage(content=\"What are the subjects in it?\")]}, config\n",
        "):\n",
        "    print(chunk)\n",
        "    print(\"----\")"
      ],
      "metadata": {
        "colab": {
          "base_uri": "https://localhost:8080/"
        },
        "id": "i51-Cgvf6_Td",
        "outputId": "53b4ff77-faf7-487a-fedb-e54b164fc9f6"
      },
      "execution_count": 29,
      "outputs": [
        {
          "output_type": "stream",
          "name": "stdout",
          "text": [
            "{'agent': {'messages': [AIMessage(content='', additional_kwargs={'tool_calls': [{'id': 'call_x6h6', 'function': {'arguments': '{\"query\": \"NCERT class 1 subjects\"}', 'name': 'tavily_search_results_json'}, 'type': 'function'}]}, response_metadata={'token_usage': {'completion_tokens': 23, 'prompt_tokens': 685, 'total_tokens': 708, 'completion_time': 0.083636364, 'prompt_time': 0.103760156, 'queue_time': 0.0069301529999999945, 'total_time': 0.18739652}, 'model_name': 'llama-3.3-70b-versatile', 'system_fingerprint': 'fp_4e32347616', 'finish_reason': 'tool_calls', 'logprobs': None}, id='run-c5a0e5b4-8ff5-4691-9a88-02e5af88592e-0', tool_calls=[{'name': 'tavily_search_results_json', 'args': {'query': 'NCERT class 1 subjects'}, 'id': 'call_x6h6', 'type': 'tool_call'}], usage_metadata={'input_tokens': 685, 'output_tokens': 23, 'total_tokens': 708})]}}\n",
            "----\n",
            "{'tools': {'messages': [ToolMessage(content='[{\"url\": \"https://www.schoolmykids.com/education/cbse-class-1-syllabus\", \"content\": \"The National Council of Educational Research and Training (NCERT) syllabus for Class 1 includes the following subjects: Maths, English, Hindi and EVS. The language syllabus for English and Hindi focuses on developing reading, writing, and speaking skills. Students learn alphabet recognition, phonetics, simple sentence formation, and basic grammar.\"}, {\"url\": \"https://byjus.com/ncert-books-for-class-1/\", \"content\": \"The subjects that are covered in NCERT Book for Class 1 are Maths, English and Hindi. By learning the concepts in each subject, students will be able to answer the textbook questions easily. NCERT Books can be used as reference material for students to improve their conceptual knowledge and understand the different ways to answer a question.\"}]', name='tavily_search_results_json', id='1b73ed8e-d026-4517-b456-4b91ea6fc5bc', tool_call_id='call_x6h6', artifact={'query': 'NCERT class 1 subjects', 'follow_up_questions': None, 'answer': None, 'images': [], 'results': [{'title': 'CBSE Class 1 Syllabus : All Subjects - SchoolMyKids', 'url': 'https://www.schoolmykids.com/education/cbse-class-1-syllabus', 'content': 'The National Council of Educational Research and Training (NCERT) syllabus for Class 1 includes the following subjects: Maths, English, Hindi and EVS. The language syllabus for English and Hindi focuses on developing reading, writing, and speaking skills. Students learn alphabet recognition, phonetics, simple sentence formation, and basic grammar.', 'score': 0.99973875, 'raw_content': None}, {'title': \"NCERT Books for Class 1 Updated (2023-24) in PDF for All Subjects - BYJU'S\", 'url': 'https://byjus.com/ncert-books-for-class-1/', 'content': 'The subjects that are covered in NCERT Book for Class 1 are Maths, English and Hindi. By learning the concepts in each subject, students will be able to answer the textbook questions easily. NCERT Books can be used as reference material for students to improve their conceptual knowledge and understand the different ways to answer a question.', 'score': 0.9996018, 'raw_content': None}], 'response_time': 1.94})]}}\n",
            "----\n",
            "{'agent': {'messages': [AIMessage(content='The subjects in NCERT class 1 are:\\n\\n1. Maths\\n2. English\\n3. Hindi\\n4. EVS (Environmental Science)\\n\\nThese subjects are designed to develop the foundational skills and knowledge of students in their first year of formal education.', additional_kwargs={}, response_metadata={'token_usage': {'completion_tokens': 52, 'prompt_tokens': 903, 'total_tokens': 955, 'completion_time': 0.189090909, 'prompt_time': 0.102885282, 'queue_time': 0.0009383720000000068, 'total_time': 0.291976191}, 'model_name': 'llama-3.3-70b-versatile', 'system_fingerprint': 'fp_4e32347616', 'finish_reason': 'stop', 'logprobs': None}, id='run-349ef353-4d4e-4429-8aff-700072702838-0', usage_metadata={'input_tokens': 903, 'output_tokens': 52, 'total_tokens': 955})]}}\n",
            "----\n"
          ]
        }
      ]
    }
  ]
}